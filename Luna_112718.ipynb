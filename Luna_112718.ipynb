{
 "cells": [
  {
   "cell_type": "code",
   "execution_count": 75,
   "metadata": {},
   "outputs": [],
   "source": [
    "import pandas as pd"
   ]
  },
  {
   "cell_type": "code",
   "execution_count": 74,
   "metadata": {},
   "outputs": [],
   "source": [
    "import numpy as np"
   ]
  },
  {
   "cell_type": "code",
   "execution_count": 144,
   "metadata": {},
   "outputs": [
    {
     "name": "stdout",
     "output_type": "stream",
     "text": [
      "Columns of the DataFrame:\n",
      "Index(['adult', 'belongs_to_collection', 'budget', 'genres', 'homepage', 'id',\n",
      "       'imdb_id', 'original_language', 'original_title', 'overview',\n",
      "       'popularity', 'poster_path', 'production_companies',\n",
      "       'production_countries', 'release_date', 'revenue', 'runtime',\n",
      "       'spoken_languages', 'status', 'tagline', 'title', 'video',\n",
      "       'vote_average', 'vote_count'],\n",
      "      dtype='object')\n"
     ]
    }
   ],
   "source": [
    "df = pd.read_csv('movies_metadata.csv', encoding='latin-1')\n",
    "print(\"Columns of the DataFrame:\")\n",
    "print(df.columns)"
   ]
  },
  {
   "cell_type": "code",
   "execution_count": 147,
   "metadata": {},
   "outputs": [
    {
     "name": "stdout",
     "output_type": "stream",
     "text": [
      "<class 'pandas.core.frame.DataFrame'>\n",
      "RangeIndex: 50 entries, 0 to 49\n",
      "Data columns (total 24 columns):\n",
      "adult                    50 non-null bool\n",
      "belongs_to_collection    10 non-null object\n",
      "budget                   50 non-null int64\n",
      "genres                   50 non-null object\n",
      "homepage                 5 non-null object\n",
      "id                       50 non-null int64\n",
      "imdb_id                  50 non-null object\n",
      "original_language        50 non-null object\n",
      "original_title           50 non-null object\n",
      "overview                 49 non-null object\n",
      "popularity               50 non-null object\n",
      "poster_path              50 non-null object\n",
      "production_companies     50 non-null object\n",
      "production_countries     50 non-null object\n",
      "release_date             50 non-null object\n",
      "revenue                  50 non-null object\n",
      "runtime                  50 non-null int64\n",
      "spoken_languages         50 non-null object\n",
      "status                   50 non-null object\n",
      "tagline                  41 non-null object\n",
      "title                    50 non-null object\n",
      "video                    50 non-null object\n",
      "vote_average             50 non-null object\n",
      "vote_count               50 non-null float64\n",
      "dtypes: bool(1), float64(1), int64(3), object(19)\n",
      "memory usage: 9.1+ KB\n",
      "Details of the DataFrame:\n",
      "None\n"
     ]
    }
   ],
   "source": [
    "import pandas as pd\n",
    "df = pd.read_csv('movies_metadata.csv', encoding='latin-1')\n",
    "result = df.info()\n",
    "print(\"Details of the DataFrame:\")\n",
    "print(result)"
   ]
  },
  {
   "cell_type": "code",
   "execution_count": 148,
   "metadata": {},
   "outputs": [
    {
     "name": "stdout",
     "output_type": "stream",
     "text": [
      "Details of the third movie:\n",
      "adult                                                                False\n",
      "belongs_to_collection    {'id': 119050, 'name': 'Grumpy Old Men Collect...\n",
      "budget                                                                   0\n",
      "genres                   [{'id': 10749, 'name': 'Romance'}, {'id': 35, ...\n",
      "homepage                                                               NaN\n",
      "id                                                                   15602\n",
      "imdb_id                                                          tt0113228\n",
      "original_language                                                       en\n",
      "original_title                                            Grumpier Old Men\n",
      "overview                 A family wedding reignites the ancient feud be...\n",
      "popularity                                                         11.7129\n",
      "poster_path                               /6ksm1sjKMFLbO7UY2i6G1ju9SML.jpg\n",
      "production_companies     [{'name': 'Warner Bros.', 'id': 6194}, {'name'...\n",
      "production_countries     [{'iso_3166_1': 'US', 'name': 'United States o...\n",
      "release_date                                                    22/12/1995\n",
      "revenue                                                                  0\n",
      "runtime                                                                101\n",
      "spoken_languages                  [{'iso_639_1': 'en', 'name': 'English'}]\n",
      "status                                                            Released\n",
      "tagline                  Still Yelling. Still Fighting. Still Ready for...\n",
      "title                                                     Grumpier Old Men\n",
      "video                                                                FALSE\n",
      "vote_average                                                           6.5\n",
      "vote_count                                                              92\n",
      "Name: 2, dtype: object\n"
     ]
    }
   ],
   "source": [
    "\n",
    "df = pd.read_csv('movies_metadata.csv', encoding='latin-1')\n",
    "third_movie = df.iloc[2]\n",
    "print(\"Details of the third movie:\")\n",
    "print(third_movie)"
   ]
  },
  {
   "cell_type": "code",
   "execution_count": 149,
   "metadata": {},
   "outputs": [
    {
     "name": "stdout",
     "output_type": "stream",
     "text": [
      "Details of title and genres:\n",
      "                                                title  \\\n",
      "0                                           Toy Story   \n",
      "1                                             Jumanji   \n",
      "2                                    Grumpier Old Men   \n",
      "3                                   Waiting to Exhale   \n",
      "4                         Father of the Bride Part II   \n",
      "5                                                Heat   \n",
      "6                                             Sabrina   \n",
      "7                                        Tom and Huck   \n",
      "8                                        Sudden Death   \n",
      "9                                           GoldenEye   \n",
      "10                             The American President   \n",
      "11                        Dracula: Dead and Loving It   \n",
      "12                                              Balto   \n",
      "13                                              Nixon   \n",
      "14                                   Cutthroat Island   \n",
      "15                                             Casino   \n",
      "16                              Sense and Sensibility   \n",
      "17                                         Four Rooms   \n",
      "18                     Ace Ventura: When Nature Calls   \n",
      "19                                        Money Train   \n",
      "20                                         Get Shorty   \n",
      "21                                            Copycat   \n",
      "22                                          Assassins   \n",
      "23                                             Powder   \n",
      "24                                  Leaving Las Vegas   \n",
      "25                                            Othello   \n",
      "26                                       Now and Then   \n",
      "27                                         Persuasion   \n",
      "28                          The City of Lost Children   \n",
      "29  In 1930's Shanghai violence was not the proble...   \n",
      "30                                    Dangerous Minds   \n",
      "31                                     Twelve Monkeys   \n",
      "32                                   Wings of Courage   \n",
      "33                                               Babe   \n",
      "34                                         Carrington   \n",
      "35                                   Dead Man Walking   \n",
      "36                             Across the Sea of Time   \n",
      "37                                       It Takes Two   \n",
      "38                                           Clueless   \n",
      "39                           Cry, the Beloved Country   \n",
      "40                                        Richard III   \n",
      "41                                    Dead Presidents   \n",
      "42                                        Restoration   \n",
      "43                                      Mortal Kombat   \n",
      "44                                         To Die For   \n",
      "45                      How To Make An American Quilt   \n",
      "46                                              Se7en   \n",
      "47                                         Pocahontas   \n",
      "48                              When Night Is Falling   \n",
      "49                                 The Usual Suspects   \n",
      "\n",
      "                                               genres  \n",
      "0   [{'id': 16, 'name': 'Animation'}, {'id': 35, '...  \n",
      "1   [{'id': 12, 'name': 'Adventure'}, {'id': 14, '...  \n",
      "2   [{'id': 10749, 'name': 'Romance'}, {'id': 35, ...  \n",
      "3   [{'id': 35, 'name': 'Comedy'}, {'id': 18, 'nam...  \n",
      "4                      [{'id': 35, 'name': 'Comedy'}]  \n",
      "5   [{'id': 28, 'name': 'Action'}, {'id': 80, 'nam...  \n",
      "6   [{'id': 35, 'name': 'Comedy'}, {'id': 10749, '...  \n",
      "7   [{'id': 28, 'name': 'Action'}, {'id': 12, 'nam...  \n",
      "8   [{'id': 28, 'name': 'Action'}, {'id': 12, 'nam...  \n",
      "9   [{'id': 12, 'name': 'Adventure'}, {'id': 28, '...  \n",
      "10  [{'id': 35, 'name': 'Comedy'}, {'id': 18, 'nam...  \n",
      "11  [{'id': 35, 'name': 'Comedy'}, {'id': 27, 'nam...  \n",
      "12  [{'id': 10751, 'name': 'Family'}, {'id': 16, '...  \n",
      "13  [{'id': 36, 'name': 'History'}, {'id': 18, 'na...  \n",
      "14  [{'id': 28, 'name': 'Action'}, {'id': 12, 'nam...  \n",
      "15  [{'id': 18, 'name': 'Drama'}, {'id': 80, 'name...  \n",
      "16  [{'id': 18, 'name': 'Drama'}, {'id': 10749, 'n...  \n",
      "17  [{'id': 80, 'name': 'Crime'}, {'id': 35, 'name...  \n",
      "18  [{'id': 80, 'name': 'Crime'}, {'id': 35, 'name...  \n",
      "19  [{'id': 28, 'name': 'Action'}, {'id': 35, 'nam...  \n",
      "20  [{'id': 35, 'name': 'Comedy'}, {'id': 53, 'nam...  \n",
      "21  [{'id': 18, 'name': 'Drama'}, {'id': 53, 'name...  \n",
      "22  [{'id': 28, 'name': 'Action'}, {'id': 12, 'nam...  \n",
      "23  [{'id': 18, 'name': 'Drama'}, {'id': 14, 'name...  \n",
      "24  [{'id': 18, 'name': 'Drama'}, {'id': 10749, 'n...  \n",
      "25                      [{'id': 18, 'name': 'Drama'}]  \n",
      "26  [{'id': 35, 'name': 'Comedy'}, {'id': 18, 'nam...  \n",
      "27  [{'id': 18, 'name': 'Drama'}, {'id': 10749, 'n...  \n",
      "28  [{'id': 14, 'name': 'Fantasy'}, {'id': 878, 'n...  \n",
      "29  [{'id': 18, 'name': 'Drama'}, {'id': 80, 'name...  \n",
      "30  [{'id': 18, 'name': 'Drama'}, {'id': 80, 'name...  \n",
      "31  [{'id': 878, 'name': 'Science Fiction'}, {'id'...  \n",
      "32  [{'id': 10749, 'name': 'Romance'}, {'id': 12, ...  \n",
      "33  [{'id': 14, 'name': 'Fantasy'}, {'id': 18, 'na...  \n",
      "34  [{'id': 36, 'name': 'History'}, {'id': 18, 'na...  \n",
      "35                      [{'id': 18, 'name': 'Drama'}]  \n",
      "36  [{'id': 12, 'name': 'Adventure'}, {'id': 36, '...  \n",
      "37  [{'id': 35, 'name': 'Comedy'}, {'id': 10751, '...  \n",
      "38  [{'id': 35, 'name': 'Comedy'}, {'id': 18, 'nam...  \n",
      "39                      [{'id': 18, 'name': 'Drama'}]  \n",
      "40  [{'id': 18, 'name': 'Drama'}, {'id': 10752, 'n...  \n",
      "41  [{'id': 28, 'name': 'Action'}, {'id': 80, 'nam...  \n",
      "42  [{'id': 18, 'name': 'Drama'}, {'id': 10749, 'n...  \n",
      "43  [{'id': 28, 'name': 'Action'}, {'id': 14, 'nam...  \n",
      "44  [{'id': 14, 'name': 'Fantasy'}, {'id': 18, 'na...  \n",
      "45  [{'id': 18, 'name': 'Drama'}, {'id': 10749, 'n...  \n",
      "46  [{'id': 80, 'name': 'Crime'}, {'id': 9648, 'na...  \n",
      "47  [{'id': 12, 'name': 'Adventure'}, {'id': 16, '...  \n",
      "48  [{'id': 18, 'name': 'Drama'}, {'id': 10749, 'n...  \n",
      "49  [{'id': 18, 'name': 'Drama'}, {'id': 80, 'name...  \n"
     ]
    }
   ],
   "source": [
    "df = pd.read_csv('movies_metadata.csv', encoding='latin-1')\n",
    "result = df[['title', 'genres']]\n",
    "print(\"Details of title and genres:\")\n",
    "print(result)"
   ]
  },
  {
   "cell_type": "code",
   "execution_count": null,
   "metadata": {},
   "outputs": [],
   "source": []
  }
 ],
 "metadata": {
  "kernelspec": {
   "display_name": "Python 3",
   "language": "python",
   "name": "python3"
  },
  "language_info": {
   "codemirror_mode": {
    "name": "ipython",
    "version": 3
   },
   "file_extension": ".py",
   "mimetype": "text/x-python",
   "name": "python",
   "nbconvert_exporter": "python",
   "pygments_lexer": "ipython3",
   "version": "3.7.0"
  }
 },
 "nbformat": 4,
 "nbformat_minor": 2
}
