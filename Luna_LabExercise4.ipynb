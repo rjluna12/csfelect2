{
 "cells": [
  {
   "cell_type": "code",
   "execution_count": 25,
   "metadata": {},
   "outputs": [],
   "source": [
    "import pandas as pd\n",
    "import numpy as np\n"
   ]
  },
  {
   "cell_type": "code",
   "execution_count": 26,
   "metadata": {},
   "outputs": [],
   "source": [
    "import matplotlib.pyplot as plt"
   ]
  },
  {
   "cell_type": "code",
   "execution_count": 16,
   "metadata": {},
   "outputs": [
    {
     "name": "stdout",
     "output_type": "stream",
     "text": [
      "Columns of the DataFrame:\n",
      "    val_loss  val_rpn_class_loss  val_rpn_bbox_loss  val_mrcnn_class_loss  \\\n",
      "0   1.754570            0.018061           0.611160              0.269144   \n",
      "1   1.655059            0.022669           0.506458              0.251856   \n",
      "2        NaN            0.635333                NaN              0.714604   \n",
      "3        NaN            0.635305                NaN              0.714667   \n",
      "4        NaN            0.635234                NaN              0.714934   \n",
      "5        NaN            0.635130                NaN              0.714372   \n",
      "6        NaN            0.635333                NaN              0.714604   \n",
      "7        NaN            0.635305                NaN              0.714667   \n",
      "8        NaN            0.635249                NaN              0.714889   \n",
      "9        NaN            0.635130                NaN              0.714386   \n",
      "10       NaN            0.635209                NaN              0.714600   \n",
      "11       NaN            0.635074                NaN              0.714693   \n",
      "12       NaN            0.635314                NaN              0.714974   \n",
      "13       NaN            0.635357                NaN              0.714341   \n",
      "14       NaN            0.635117                NaN              0.714725   \n",
      "15       NaN            0.635306                NaN              0.714350   \n",
      "\n",
      "    val_mrcnn_bbox_loss  val_mrcnn_mask_loss      loss  rpn_class_loss  \\\n",
      "0              0.479010             0.377192  1.803483        0.022705   \n",
      "1              0.485994             0.388075  1.815888        0.026844   \n",
      "2              0.693999             0.644445       NaN        0.528828   \n",
      "3              0.668374             0.643271       NaN        0.635189   \n",
      "4              0.689919             0.643442       NaN        0.635225   \n",
      "5              0.709939             0.641860       NaN        0.635140   \n",
      "6              0.693999             0.644445       NaN        0.635159   \n",
      "7              0.668374             0.643271       NaN        0.635185   \n",
      "8              0.689500             0.643485       NaN        0.635226   \n",
      "9              0.711323             0.641953       NaN        0.635142   \n",
      "10             0.662771             0.644330       NaN        0.635200   \n",
      "11             0.700380             0.642700       NaN        0.635195   \n",
      "12             0.666456             0.646133       NaN        0.635269   \n",
      "13             0.695368             0.644008       NaN        0.635202   \n",
      "14             0.684721             0.642354       NaN        0.635234   \n",
      "15             0.688258             0.643110       NaN        0.635165   \n",
      "\n",
      "    rpn_bbox_loss  mrcnn_class_loss  mrcnn_bbox_loss  mrcnn_mask_loss  \n",
      "0        0.581437          0.266228         0.528406         0.404705  \n",
      "1        0.663897          0.242443         0.495953         0.386747  \n",
      "2             NaN          0.646798         0.627933         0.607494  \n",
      "3             NaN          0.714965         0.677704         0.646076  \n",
      "4             NaN          0.714954         0.672087         0.648499  \n",
      "5             NaN          0.714946         0.677007         0.647496  \n",
      "6             NaN          0.714756         0.660587         0.647642  \n",
      "7             NaN          0.714952         0.676965         0.646133  \n",
      "8             NaN          0.714965         0.672668         0.648509  \n",
      "9             NaN          0.714923         0.677648         0.647484  \n",
      "10            NaN          0.715009         0.661541         0.646548  \n",
      "11            NaN          0.714735         0.668250         0.647445  \n",
      "12            NaN          0.714811         0.662715         0.646872  \n",
      "13            NaN          0.714676         0.676615         0.647435  \n",
      "14            NaN          0.714811         0.655191         0.647572  \n",
      "15            NaN          0.714994         0.667316         0.647074  \n"
     ]
    }
   ],
   "source": [
    "df = pd.read_csv('convolution_model_training_history.csv', encoding='latin-1')\n",
    "print(\"Columns of the DataFrame:\")\n",
    "print(df)"
   ]
  },
  {
   "cell_type": "code",
   "execution_count": 17,
   "metadata": {},
   "outputs": [
    {
     "data": {
      "text/html": [
       "<div>\n",
       "<style scoped>\n",
       "    .dataframe tbody tr th:only-of-type {\n",
       "        vertical-align: middle;\n",
       "    }\n",
       "\n",
       "    .dataframe tbody tr th {\n",
       "        vertical-align: top;\n",
       "    }\n",
       "\n",
       "    .dataframe thead th {\n",
       "        text-align: right;\n",
       "    }\n",
       "</style>\n",
       "<table border=\"1\" class=\"dataframe\">\n",
       "  <thead>\n",
       "    <tr style=\"text-align: right;\">\n",
       "      <th></th>\n",
       "      <th>val_loss</th>\n",
       "      <th>val_rpn_class_loss</th>\n",
       "      <th>val_rpn_bbox_loss</th>\n",
       "      <th>val_mrcnn_class_loss</th>\n",
       "      <th>val_mrcnn_bbox_loss</th>\n",
       "      <th>val_mrcnn_mask_loss</th>\n",
       "      <th>loss</th>\n",
       "      <th>rpn_class_loss</th>\n",
       "      <th>rpn_bbox_loss</th>\n",
       "      <th>mrcnn_class_loss</th>\n",
       "      <th>mrcnn_bbox_loss</th>\n",
       "      <th>mrcnn_mask_loss</th>\n",
       "    </tr>\n",
       "  </thead>\n",
       "  <tbody>\n",
       "    <tr>\n",
       "      <th>0</th>\n",
       "      <td>1.754570</td>\n",
       "      <td>0.018061</td>\n",
       "      <td>0.611160</td>\n",
       "      <td>0.269144</td>\n",
       "      <td>0.479010</td>\n",
       "      <td>0.377192</td>\n",
       "      <td>1.803483</td>\n",
       "      <td>0.022705</td>\n",
       "      <td>0.581437</td>\n",
       "      <td>0.266228</td>\n",
       "      <td>0.528406</td>\n",
       "      <td>0.404705</td>\n",
       "    </tr>\n",
       "    <tr>\n",
       "      <th>1</th>\n",
       "      <td>1.655059</td>\n",
       "      <td>0.022669</td>\n",
       "      <td>0.506458</td>\n",
       "      <td>0.251856</td>\n",
       "      <td>0.485994</td>\n",
       "      <td>0.388075</td>\n",
       "      <td>1.815888</td>\n",
       "      <td>0.026844</td>\n",
       "      <td>0.663897</td>\n",
       "      <td>0.242443</td>\n",
       "      <td>0.495953</td>\n",
       "      <td>0.386747</td>\n",
       "    </tr>\n",
       "    <tr>\n",
       "      <th>2</th>\n",
       "      <td>NaN</td>\n",
       "      <td>0.635333</td>\n",
       "      <td>NaN</td>\n",
       "      <td>0.714604</td>\n",
       "      <td>0.693999</td>\n",
       "      <td>0.644445</td>\n",
       "      <td>NaN</td>\n",
       "      <td>0.528828</td>\n",
       "      <td>NaN</td>\n",
       "      <td>0.646798</td>\n",
       "      <td>0.627933</td>\n",
       "      <td>0.607494</td>\n",
       "    </tr>\n",
       "    <tr>\n",
       "      <th>3</th>\n",
       "      <td>NaN</td>\n",
       "      <td>0.635305</td>\n",
       "      <td>NaN</td>\n",
       "      <td>0.714667</td>\n",
       "      <td>0.668374</td>\n",
       "      <td>0.643271</td>\n",
       "      <td>NaN</td>\n",
       "      <td>0.635189</td>\n",
       "      <td>NaN</td>\n",
       "      <td>0.714965</td>\n",
       "      <td>0.677704</td>\n",
       "      <td>0.646076</td>\n",
       "    </tr>\n",
       "    <tr>\n",
       "      <th>4</th>\n",
       "      <td>NaN</td>\n",
       "      <td>0.635234</td>\n",
       "      <td>NaN</td>\n",
       "      <td>0.714934</td>\n",
       "      <td>0.689919</td>\n",
       "      <td>0.643442</td>\n",
       "      <td>NaN</td>\n",
       "      <td>0.635225</td>\n",
       "      <td>NaN</td>\n",
       "      <td>0.714954</td>\n",
       "      <td>0.672087</td>\n",
       "      <td>0.648499</td>\n",
       "    </tr>\n",
       "  </tbody>\n",
       "</table>\n",
       "</div>"
      ],
      "text/plain": [
       "   val_loss  val_rpn_class_loss  val_rpn_bbox_loss  val_mrcnn_class_loss  \\\n",
       "0  1.754570            0.018061           0.611160              0.269144   \n",
       "1  1.655059            0.022669           0.506458              0.251856   \n",
       "2       NaN            0.635333                NaN              0.714604   \n",
       "3       NaN            0.635305                NaN              0.714667   \n",
       "4       NaN            0.635234                NaN              0.714934   \n",
       "\n",
       "   val_mrcnn_bbox_loss  val_mrcnn_mask_loss      loss  rpn_class_loss  \\\n",
       "0             0.479010             0.377192  1.803483        0.022705   \n",
       "1             0.485994             0.388075  1.815888        0.026844   \n",
       "2             0.693999             0.644445       NaN        0.528828   \n",
       "3             0.668374             0.643271       NaN        0.635189   \n",
       "4             0.689919             0.643442       NaN        0.635225   \n",
       "\n",
       "   rpn_bbox_loss  mrcnn_class_loss  mrcnn_bbox_loss  mrcnn_mask_loss  \n",
       "0       0.581437          0.266228         0.528406         0.404705  \n",
       "1       0.663897          0.242443         0.495953         0.386747  \n",
       "2            NaN          0.646798         0.627933         0.607494  \n",
       "3            NaN          0.714965         0.677704         0.646076  \n",
       "4            NaN          0.714954         0.672087         0.648499  "
      ]
     },
     "execution_count": 17,
     "metadata": {},
     "output_type": "execute_result"
    }
   ],
   "source": [
    "df = pd.read_csv('convolution_model_training_history.csv', encoding='latin-1')\n",
    "df.head()"
   ]
  },
  {
   "cell_type": "code",
   "execution_count": 18,
   "metadata": {},
   "outputs": [
    {
     "data": {
      "text/plain": [
       "range(0, 16)"
      ]
     },
     "execution_count": 18,
     "metadata": {},
     "output_type": "execute_result"
    }
   ],
   "source": [
    "epochs = 16 \n",
    "range(0,epochs)"
   ]
  },
  {
   "cell_type": "code",
   "execution_count": 28,
   "metadata": {},
   "outputs": [
    {
     "data": {
      "image/png": "[encoded data removed]",
      "text/plain": [
       "<Figure size 432x288 with 1 Axes>"
      ]
     },
     "metadata": {
      "needs_background": "light"
     },
     "output_type": "display_data"
    }
   ],
   "source": [
    "first = df['loss']\n",
    "second = df['val_loss']\n",
    "\n",
    "plt.plot(range(0,epochs),first,\"r\",range(0,epochs),second,\"g\")\n",
    "\n",
    "plt.show()"
   ]
  },
  {
   "cell_type": "code",
   "execution_count": 29,
   "metadata": {},
   "outputs": [
    {
     "data": {
      "text/plain": [
       "<function matplotlib.pyplot.show(*args, **kw)>"
      ]
     },
     "execution_count": 29,
     "metadata": {},
     "output_type": "execute_result"
    },
    {
     "data": {
      "image/png": "[encoded data removed]",
      "text/plain": [
       "<Figure size 432x288 with 1 Axes>"
      ]
     },
     "metadata": {
      "needs_background": "light"
     },
     "output_type": "display_data"
    }
   ],
   "source": [
    "first = df['mrcnn_class_loss']\n",
    "second = df['rpn_class_loss']\n",
    "plt.plot(range(0,epochs),first,\"r\",range(0,epochs),second,\"g\")\n",
    "plt.show"
   ]
  },
  {
   "cell_type": "code",
   "execution_count": 30,
   "metadata": {},
   "outputs": [
    {
     "data": {
      "text/plain": [
       "<function matplotlib.pyplot.show(*args, **kw)>"
      ]
     },
     "execution_count": 30,
     "metadata": {},
     "output_type": "execute_result"
    },
    {
     "data": {
      "image/png": "[encoded data removed]",
      "text/plain": [
       "<Figure size 432x288 with 1 Axes>"
      ]
     },
     "metadata": {
      "needs_background": "light"
     },
     "output_type": "display_data"
    }
   ],
   "source": [
    "first = df['val_mrcnn_bbox_loss']\n",
    "second = df['mrcnn_bbox_loss']\n",
    "plt.plot(range(0,epochs),first,\"r\",range(0,epochs),second,\"g\")\n",
    "plt.show"
   ]
  },
  {
   "cell_type": "code",
   "execution_count": 31,
   "metadata": {},
   "outputs": [
    {
     "data": {
      "text/plain": [
       "<function matplotlib.pyplot.show(*args, **kw)>"
      ]
     },
     "execution_count": 31,
     "metadata": {},
     "output_type": "execute_result"
    },
    {
     "data": {
      "image/png": "[encoded data removed]",
      "text/plain": [
       "<Figure size 432x288 with 3 Axes>"
      ]
     },
     "metadata": {
      "needs_background": "light"
     },
     "output_type": "display_data"
    }
   ],
   "source": [
    "plt.figure(1)\n",
    "first = df['loss']\n",
    "second = df['val_loss']\n",
    "plt.subplot(131)\n",
    "plt.plot(range(0,epochs),first,\"r\",range(0,epochs),second,\"g\")\n",
    "\n",
    "third = df['mrcnn_class_loss']\n",
    "fourth = df['rpn_class_loss']\n",
    "plt.subplot(132)\n",
    "plt.plot(range(0,epochs),third,\"r\",range(0,epochs),fourth,\"g\")\n",
    "\n",
    "fifth = df['val_mrcnn_bbox_loss']\n",
    "sixth = df['mrcnn_bbox_loss']\n",
    "plt.subplot(133)\n",
    "plt.plot(range(0,epochs),fifth,\"r\",range(0,epochs),sixth,\"g\")\n",
    "\n",
    "\n",
    "\n",
    "plt.show"
   ]
  },
  {
   "cell_type": "code",
   "execution_count": 32,
   "metadata": {},
   "outputs": [
    {
     "name": "stdout",
     "output_type": "stream",
     "text": [
      "Rolando C. Luna Jr.\n",
      "BSCS-4\n",
      "1501031\n"
     ]
    }
   ],
   "source": [
    "print(\"Rolando C. Luna Jr.\")\n",
    "print(\"BSCS-4\")\n",
    "print('1501031')"
   ]
  }
 ],
 "metadata": {
  "kernelspec": {
   "display_name": "Python 3",
   "language": "python",
   "name": "python3"
  },
  "language_info": {
   "codemirror_mode": {
    "name": "ipython",
    "version": 3
   },
   "file_extension": ".py",
   "mimetype": "text/x-python",
   "name": "python",
   "nbconvert_exporter": "python",
   "pygments_lexer": "ipython3",
   "version": "3.7.0"
  }
 },
 "nbformat": 4,
 "nbformat_minor": 2
}
